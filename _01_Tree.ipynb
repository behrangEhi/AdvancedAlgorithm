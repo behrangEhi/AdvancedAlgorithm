{
  "nbformat": 4,
  "nbformat_minor": 0,
  "metadata": {
    "colab": {
      "provenance": [],
      "collapsed_sections": [
        "lb3ULHHWc3ZJ",
        "i7mD4kOSfFhC",
        "_Zd_0wO5f8eW",
        "xs-MbHsWr9vR"
      ],
      "authorship_tag": "ABX9TyOWhhnvfbrdBL3gGMDkxkW1",
      "include_colab_link": true
    },
    "kernelspec": {
      "name": "python3",
      "display_name": "Python 3"
    },
    "language_info": {
      "name": "python"
    }
  },
  "cells": [
    {
      "cell_type": "markdown",
      "metadata": {
        "id": "view-in-github",
        "colab_type": "text"
      },
      "source": [
        "<a href=\"https://colab.research.google.com/github/behrangEhi/AdvancedAlgorithm/blob/%2302-Tree/_01_Tree.ipynb\" target=\"_parent\"><img src=\"https://colab.research.google.com/assets/colab-badge.svg\" alt=\"Open In Colab\"/></a>"
      ]
    },
    {
      "cell_type": "markdown",
      "source": [
        "# Data Structure Visualizations\n",
        "\n",
        "[Data Structure Visualizations](https://www.cs.usfca.edu/~galles/visualization/Algorithms.html)"
      ],
      "metadata": {
        "id": "yzIWp7EhsLor"
      }
    },
    {
      "cell_type": "markdown",
      "source": [
        "# Introduction of B-Tree\n",
        "\n",
        "[geeksforgeeks](https://www.geeksforgeeks.org/introduction-of-b-tree-2/)\n",
        "\n",
        "[How to Implement a B-Tree Data Structure](https://dataquest.io/blog/b-tree-data-structure/)"
      ],
      "metadata": {
        "id": "MrmzRGSa0X0M"
      }
    },
    {
      "cell_type": "markdown",
      "source": [
        "# Slides for B-Tree\n",
        "\n",
        "\n",
        "*   [01-B tree](https://www.slideshare.net/rajendranjrf/b-tree-50159722)\n",
        "*   [02-B tree](https://slideplayer.com/slide/16807097/)\n",
        "*   [03-B tree](https://www.slideshare.net/anujmodi555/b-trees-in-data-structure)\n",
        "\n",
        "\n",
        "\n"
      ],
      "metadata": {
        "id": "j62AldIx3XRQ"
      }
    },
    {
      "cell_type": "markdown",
      "source": [
        "# Implementation (Introduction)"
      ],
      "metadata": {
        "id": "lb3ULHHWc3ZJ"
      }
    },
    {
      "cell_type": "code",
      "execution_count": null,
      "metadata": {
        "id": "xsijwVtlbPJ4",
        "colab": {
          "base_uri": "https://localhost:8080/"
        },
        "outputId": "efda59d4-807c-42ca-a4ba-02ed8ca911fc"
      },
      "outputs": [
        {
          "output_type": "stream",
          "name": "stdout",
          "text": [
            "Level  0   2:(2, 4) (5, 10) \n",
            "Level  1   2:(0, 0) (1, 2) \n",
            "Level  1   2:(3, 6) (4, 8) \n",
            "Level  1   4:(6, 12) (7, 14) (8, 16) (9, 18) \n",
            "\n",
            "Found\n"
          ]
        }
      ],
      "source": [
        "# Create a node\n",
        "class BTreeNode:\n",
        "  def __init__(self, leaf=False):\n",
        "    self.leaf = leaf\n",
        "    self.keys = []\n",
        "    self.child = []\n",
        "\n",
        "# Tree\n",
        "class BTree:\n",
        "  def __init__(self, t):\n",
        "    self.root = BTreeNode(True)\n",
        "    self.t = t\n",
        "\n",
        "  # Insert node\n",
        "  def insert(self, k):\n",
        "    root = self.root\n",
        "    if len(root.keys) == (2 * self.t) - 1:\n",
        "      temp = BTreeNode()\n",
        "      self.root = temp\n",
        "      temp.child.insert(0, root)\n",
        "      self.split_child(temp, 0)\n",
        "      self.insert_non_full(temp, k)\n",
        "    else:\n",
        "      self.insert_non_full(root, k)\n",
        "\n",
        "  # Insert nonfull\n",
        "  def insert_non_full(self, x, k):\n",
        "    i = len(x.keys) - 1\n",
        "    if x.leaf:\n",
        "      x.keys.append((None, None))\n",
        "      while i >= 0 and k[0] < x.keys[i][0]:\n",
        "        x.keys[i + 1] = x.keys[i]\n",
        "        i -= 1\n",
        "      x.keys[i + 1] = k\n",
        "    else:\n",
        "      while i >= 0 and k[0] < x.keys[i][0]:\n",
        "        i -= 1\n",
        "      i += 1\n",
        "      if len(x.child[i].keys) == (2 * self.t) - 1:\n",
        "        self.split_child(x, i)\n",
        "        if k[0] > x.keys[i][0]:\n",
        "          i += 1\n",
        "      self.insert_non_full(x.child[i], k)\n",
        "\n",
        "  # Split the child\n",
        "  def split_child(self, x, i):\n",
        "    t = self.t\n",
        "    y = x.child[i]\n",
        "    z = BTreeNode(y.leaf)\n",
        "    x.child.insert(i + 1, z)\n",
        "    x.keys.insert(i, y.keys[t - 1])\n",
        "    z.keys = y.keys[t: (2 * t) - 1]\n",
        "    y.keys = y.keys[0: t - 1]\n",
        "    if not y.leaf:\n",
        "      z.child = y.child[t: 2 * t]\n",
        "      y.child = y.child[0: t - 1]\n",
        "\n",
        "  # Print the tree\n",
        "  def print_tree(self, x, l=0):\n",
        "    print(\"Level \", l, \" \", len(x.keys), end=\":\")\n",
        "    for i in x.keys:\n",
        "      print(i, end=\" \")\n",
        "    print()\n",
        "    l += 1\n",
        "    if len(x.child) > 0:\n",
        "      for i in x.child:\n",
        "        self.print_tree(i, l)\n",
        "\n",
        "  # Search key in the tree\n",
        "  def search_key(self, k, x=None):\n",
        "    if x is not None:\n",
        "      i = 0\n",
        "      while i < len(x.keys) and k > x.keys[i][0]:\n",
        "        i += 1\n",
        "      if i < len(x.keys) and k == x.keys[i][0]:\n",
        "        return (x, i)\n",
        "      elif x.leaf:\n",
        "        return None\n",
        "      else:\n",
        "        return self.search_key(k, x.child[i])\n",
        "    else:\n",
        "      return self.search_key(k, self.root)\n",
        "\n",
        "def main():\n",
        "  B = BTree(3)\n",
        "\n",
        "  for i in range(10):\n",
        "    B.insert((i, 2 * i))\n",
        "\n",
        "  B.print_tree(B.root)\n",
        "\n",
        "  if B.search_key(8) is not None:\n",
        "    print(\"\\nFound\")\n",
        "  else:\n",
        "    print(\"\\nNot Found\")\n",
        "\n",
        "if __name__ == '__main__':\n",
        "  main()"
      ]
    },
    {
      "cell_type": "markdown",
      "source": [
        "# AVL tree\n"
      ],
      "metadata": {
        "id": "i7mD4kOSfFhC"
      }
    },
    {
      "cell_type": "markdown",
      "source": [
        "## Explain and Operation\n",
        "\n",
        "\n",
        "*   [AVL Tree Data Structure](https://www.geeksforgeeks.org/)\n",
        "*   [Insertion in an AVL Tree](https://www.geeksforgeeks.org/insertion-in-an-avl-tree/)\n",
        "*   [Deletion in an AVL Tree](https://www.geeksforgeeks.org/deletion-in-an-avl-tree/)\n",
        "\n",
        "\n"
      ],
      "metadata": {
        "id": "2cdKBpnWfP1B"
      }
    },
    {
      "cell_type": "markdown",
      "source": [
        "# Red-Black Tree"
      ],
      "metadata": {
        "id": "_Zd_0wO5f8eW"
      }
    },
    {
      "cell_type": "markdown",
      "source": [
        "## Explain and Operation\n",
        "\n",
        "\n",
        "\n",
        "*   [Introduction to Red-Black Tree](https://www.geeksforgeeks.org/introduction-to-red-black-tree/)\n",
        "*   [Insertion in Red-Black Tree](https://www.geeksforgeeks.org/insertion-in-red-black-tree/)\n",
        "*   [Deletion in Red-Black Tree](https://www.geeksforgeeks.org/deletion-in-red-black-tree/)\n",
        "\n"
      ],
      "metadata": {
        "id": "3DwfgQ6ugBq-"
      }
    },
    {
      "cell_type": "markdown",
      "source": [
        "# Introduction to Splay tree data structure"
      ],
      "metadata": {
        "id": "xs-MbHsWr9vR"
      }
    },
    {
      "cell_type": "markdown",
      "source": [
        "## New section"
      ],
      "metadata": {
        "id": "ocwXxOBor_9C"
      }
    },
    {
      "cell_type": "markdown",
      "source": [
        "## Explain and Operation\n",
        "\n",
        "*   [List itemIntroduction to Splay tree data structureList item](https://www.geeksforgeeks.org/introduction-to-splay-tree-data-structure/)\n",
        "*   [Insertion in Splay Tree](https://www.geeksforgeeks.org/insertion-in-splay-tree/)\n",
        "*   [Deletion in Splay Tree](https://www.geeksforgeeks.org/deletion-in-splay-tree/)\n",
        "\n",
        "\n",
        "\n"
      ],
      "metadata": {
        "id": "gF4w1Fl9sEKy"
      }
    },
    {
      "cell_type": "markdown",
      "source": [
        "# AVL Trees, Red-Black Trees, and Splay Trees\n",
        "\n",
        "All three data structures—AVL Trees, Red-Black Trees, and Splay Trees—are self-balancing binary search trees, designed to maintain efficient search, insertion, and deletion operations. Each tree structure achieves balance through different mechanisms.\n",
        "\n",
        "1. **AVL Trees**:\n",
        "   - AVL Trees are height-balanced binary search trees, named after their inventors Adelson-Velsky and Landis.\n",
        "   - They ensure that the heights of the left and right subtrees of every node differ by at most 1, maintaining a strict balance criterion.\n",
        "   - To maintain balance during insertion and deletion, AVL Trees use rotation operations to adjust the tree structure.\n",
        "   - The self-balancing property of AVL Trees guarantees a worst-case time complexity of O(log n) for search, insertion, and deletion operations.\n",
        "\n",
        "2. **Red-Black Trees**:\n",
        "   - Red-Black Trees are another type of self-balancing binary search trees.\n",
        "   - They maintain balance using a set of color properties assigned to each node—either \"red\" or \"black.\"\n",
        "   - Red-Black Trees enforce five properties:\n",
        "     1. Every node is either red or black.\n",
        "     2. The root node is always black.\n",
        "     3. Every leaf (null) node is black.\n",
        "     4. If a node is red, both its children are black (no adjacent red nodes).\n",
        "     5. For each node, all simple paths from the node to descendant leaves contain the same number of black nodes.\n",
        "   - The balancing operations in Red-Black Trees include color flips, rotations, and restructuring.\n",
        "   - Red-Black Trees guarantee a worst-case time complexity of O(log n) for search, insertion, and deletion operations.\n",
        "\n",
        "3. **Splay Trees**:\n",
        "   - Splay Trees are unique among the three structures because they prioritize frequently accessed nodes by bringing them to the top of the tree.\n",
        "   - They accomplish this by performing \"splay\" operations, which involve a sequence of rotations and reconfigurations based on the accessed node.\n",
        "   - The splay operation brings the accessed node to the root of the tree, reducing future access time.\n",
        "   - Splay Trees do not guarantee strict balance like AVL Trees or Red-Black Trees. Instead, they exhibit amortized logarithmic time complexity, meaning that over a series of operations, the average time complexity is logarithmic.\n",
        "   - Splay Trees are useful in scenarios where recently accessed elements are likely to be accessed again in the near future, as they improve the overall efficiency of accessing frequently used elements.\n",
        "\n",
        "In summary, AVL Trees, Red-Black Trees, and Splay Trees are all self-balancing binary search trees, but they employ different balancing mechanisms. AVL Trees ensure strict balance based on height difference, Red-Black Trees use color properties, and Splay Trees prioritize frequently accessed nodes. Each structure offers efficient search, insertion, and deletion operations with different trade-offs in terms of complexity and performance characteristics."
      ],
      "metadata": {
        "id": "DZ6BXiDXkL4_"
      }
    }
  ]
}