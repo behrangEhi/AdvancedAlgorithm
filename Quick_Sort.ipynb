{
  "cells": [
    {
      "cell_type": "markdown",
      "metadata": {
        "id": "view-in-github",
        "colab_type": "text"
      },
      "source": [
        "<a href=\"https://colab.research.google.com/github/behrangEhi/AdvancedAlgorithm/blob/main/Quick_Sort.ipynb\" target=\"_parent\"><img src=\"https://colab.research.google.com/assets/colab-badge.svg\" alt=\"Open In Colab\"/></a>"
      ]
    },
    {
      "cell_type": "markdown",
      "metadata": {
        "id": "gus-TkxrISxG"
      },
      "source": [
        "# Quick Sort Algorithm\n",
        "[Quick Sort | GeeksforGeeks](https://www.youtube.com/watch?v=PgBzjlCcFvc)\n",
        "\n",
        "[Quicksort Animation](https://www.youtube.com/watch?v=tIYMCYooo3c)"
      ]
    },
    {
      "cell_type": "code",
      "source": [
        "import random\n",
        "import numpy as np"
      ],
      "metadata": {
        "id": "rHXUjExjbbIc"
      },
      "execution_count": null,
      "outputs": []
    },
    {
      "cell_type": "markdown",
      "source": [
        "## From First"
      ],
      "metadata": {
        "id": "GF3XezrJdbBv"
      }
    },
    {
      "cell_type": "code",
      "execution_count": null,
      "metadata": {
        "id": "hxFRT85l-ifg"
      },
      "outputs": [],
      "source": [
        "def partition_F(arr, low, high):\n",
        "    i = low + 1\n",
        "    pivot = low\n",
        "\n",
        "    for j in range(low + 1, high + 1):\n",
        "        if arr[j] <= arr[pivot]:\n",
        "            arr[i], arr[j] = arr[j], arr[i]\n",
        "            i += 1\n",
        "\n",
        "    arr[pivot], arr[i - 1]  = arr[i - 1], arr[pivot]\n",
        "    return i - 1\n",
        "\n",
        "def quicksort_F(arr, low, high):\n",
        "    if len(arr) == 0 or len(arr) == 1:\n",
        "        return arr\n",
        "    if low < high:\n",
        "        pivot = partition_F(arr, low, high)\n",
        "        quicksort_F(arr, low, pivot - 1)\n",
        "        quicksort_F(arr, pivot + 1, high)\n"
      ]
    },
    {
      "cell_type": "code",
      "execution_count": null,
      "metadata": {
        "colab": {
          "base_uri": "https://localhost:8080/"
        },
        "id": "0e5BLXC9DydQ",
        "outputId": "efa01356-3edd-43a6-e7ec-ad458cd600a3"
      },
      "outputs": [
        {
          "output_type": "stream",
          "name": "stdout",
          "text": [
            "random array:  [37 -9 98 70 -8 90 91 79 86 42]\n",
            "sorted:  [-9 -8 37 42 70 79 86 90 91 98]\n"
          ]
        }
      ],
      "source": [
        "arr = np.random.randint(-100,100,10)\n",
        "print('random array: ', arr)\n",
        "quicksort_F(arr, 0, len(arr) - 1)\n",
        "print('sorted: ', arr)"
      ]
    },
    {
      "cell_type": "markdown",
      "source": [
        "## From Last\n",
        "\n",
        "This implementation utilizes pivot as the last element in the nums list It has a pointer to keep track of the elements smaller than the pivot At the very end of partition() function, the pointer is swapped with the pivot to come up with a \"sorted\" nums relative to the pivot"
      ],
      "metadata": {
        "id": "bE00e_PmdImx"
      }
    },
    {
      "cell_type": "code",
      "source": [
        "\n",
        "# Function to find the partition position\n",
        "def partition_L(array, low, high):\n",
        "\n",
        "    # choose the rightmost element as pivot\n",
        "    pivot = array[high]\n",
        "\n",
        "    # pointer for greater element\n",
        "    i = low - 1\n",
        "\n",
        "    # traverse through all elements\n",
        "    # compare each element with pivot\n",
        "    for j in range(low, high):\n",
        "        if array[j] <= pivot:\n",
        "\n",
        "            # If element smaller than pivot is found\n",
        "            # swap it with the greater element pointed by i\n",
        "            i = i + 1\n",
        "\n",
        "            # Swapping element at i with element at j\n",
        "            (array[i], array[j]) = (array[j], array[i])\n",
        "\n",
        "    # Swap the pivot element with the greater element specified by i\n",
        "    (array[i + 1], array[high]) = (array[high], array[i + 1])\n",
        "\n",
        "    # Return the position from where partition is done\n",
        "    return i + 1\n",
        "\n",
        "# function to perform quicksort\n",
        "\n",
        "\n",
        "def quickSort_L(array, low, high):\n",
        "    if low < high:\n",
        "\n",
        "        # Find pivot element such that\n",
        "        # element smaller than pivot are on the left\n",
        "        # element greater than pivot are on the right\n",
        "        pi = partition_L(array, low, high)\n",
        "\n",
        "        # Recursive call on the left of pivot\n",
        "        quickSort_L(array, low, pi - 1)\n",
        "\n",
        "        # Recursive call on the right of pivot\n",
        "        quickSort_L(array, pi + 1, high)"
      ],
      "metadata": {
        "id": "VgZ7Gv46crLI"
      },
      "execution_count": null,
      "outputs": []
    },
    {
      "cell_type": "code",
      "source": [
        "data = np.random.randint(-100,100,10)\n",
        "print('random array: ', data)\n",
        "size = len(data)\n",
        "quickSort_L(data, 0, size - 1)\n",
        "print('sorted: ', data)"
      ],
      "metadata": {
        "colab": {
          "base_uri": "https://localhost:8080/"
        },
        "id": "ypzd89iRcuaC",
        "outputId": "2fbd5115-51bd-4345-b9c5-377651870fcb"
      },
      "execution_count": null,
      "outputs": [
        {
          "output_type": "stream",
          "name": "stdout",
          "text": [
            "random array:  [-32  69 -48 -86  -3  17 -82 -20  75 -16]\n",
            "sorted:  [-86 -82 -48 -32 -20 -16  -3  17  69  75]\n"
          ]
        }
      ]
    },
    {
      "cell_type": "markdown",
      "source": [
        "## Another implementation"
      ],
      "metadata": {
        "id": "T5xwaCaDdOqQ"
      }
    },
    {
      "cell_type": "code",
      "source": [
        "def sort(array):\n",
        "    \"\"\"Sort the array by using quicksort.\"\"\"\n",
        "\n",
        "    less = []\n",
        "    equal = []\n",
        "    greater = []\n",
        "\n",
        "    if len(array) > 1:\n",
        "        pivot = array[0]\n",
        "        for x in array:\n",
        "            if x < pivot:\n",
        "                less.append(x)\n",
        "            elif x == pivot:\n",
        "                equal.append(x)\n",
        "            elif x > pivot:\n",
        "                greater.append(x)\n",
        "        # Don't forget to return something!\n",
        "        return sort(less)+equal+sort(greater)  # Just use the + operator to join lists\n",
        "    # Note that you want equal ^^^^^ not pivot\n",
        "    else:  # You need to handle the part at the end of the recursion - when you only have one element in your array, just return the array.\n",
        "        return array"
      ],
      "metadata": {
        "id": "CCWJ56XKbLif"
      },
      "execution_count": null,
      "outputs": []
    },
    {
      "cell_type": "code",
      "source": [
        "arr = np.random.randint(-100,100,10)\n",
        "print('random array: ', arr)\n",
        "arrSorted = sort(arr)\n",
        "print('sorted: ', arrSorted)"
      ],
      "metadata": {
        "colab": {
          "base_uri": "https://localhost:8080/"
        },
        "id": "Y9KcnQ3pbQCl",
        "outputId": "4a009de7-27cd-4a28-de8f-cd62d11c7609"
      },
      "execution_count": null,
      "outputs": [
        {
          "output_type": "stream",
          "name": "stdout",
          "text": [
            "random array:  [ 47  93  -9  41  27  48   4 -92 -33  55]\n",
            "sorted:  [-92, -33, -9, 4, 27, 41, 47, 48, 55, 93]\n"
          ]
        }
      ]
    },
    {
      "cell_type": "markdown",
      "metadata": {
        "id": "AlLDVDxFIa1N"
      },
      "source": [
        "# Randomized Quick Sort Algorithm\n"
      ]
    },
    {
      "cell_type": "markdown",
      "source": [
        "## First Approach: choosing pivot element randomly\n",
        "[Random Quick Sort Algorithm | Visualization](https://www.youtube.com/watch?v=PSss61qKmEU)\n"
      ],
      "metadata": {
        "id": "BNzEA2ba-ODM"
      }
    },
    {
      "cell_type": "code",
      "execution_count": null,
      "metadata": {
        "id": "WjTdLblRGqJc"
      },
      "outputs": [],
      "source": [
        "import random\n",
        "import numpy as np\n"
      ]
    },
    {
      "cell_type": "code",
      "execution_count": null,
      "metadata": {
        "id": "f99bYDBDJ-Ly"
      },
      "outputs": [],
      "source": [
        "def rand_partition(arr, low, high):\n",
        "    r_pivot = random.randrange(low, high)\n",
        "    arr[low], arr[r_pivot] = arr[r_pivot], arr[low]\n",
        "    return partition_F(arr, low, high)\n",
        "\n",
        "def rand_quicksort(arr, low, high):\n",
        "    if len(arr) == 0 or len(arr) == 1:\n",
        "        return arr\n",
        "    if low < high:\n",
        "        pivot = rand_partition(arr, low, high)\n",
        "        rand_quicksort(arr, low, pivot - 1)\n",
        "        rand_quicksort(arr, pivot + 1, high)"
      ]
    },
    {
      "cell_type": "code",
      "execution_count": null,
      "metadata": {
        "colab": {
          "base_uri": "https://localhost:8080/"
        },
        "id": "N2_gJmldLUSj",
        "outputId": "4bfa3117-0f64-4045-d1a5-545c93d14deb"
      },
      "outputs": [
        {
          "output_type": "stream",
          "name": "stdout",
          "text": [
            "random array:  [79 31 85 57 23 37 24 36 99 70 81 56 81 65  8]\n",
            "sorted:  [ 8 23 24 31 36 37 56 57 65 70 79 81 81 85 99]\n"
          ]
        }
      ],
      "source": [
        "arr = np.random.randint(1,100,15)\n",
        "print('random array: ', arr)\n",
        "rand_quicksort(arr, 0, len(arr) - 1)\n",
        "print('sorted: ', arr)"
      ]
    },
    {
      "cell_type": "markdown",
      "metadata": {
        "id": "UPw5p_mAjGPA"
      },
      "source": [
        "## Second Approach: choosing randomized permutation"
      ]
    },
    {
      "cell_type": "code",
      "execution_count": null,
      "metadata": {
        "id": "KnGrP5wLjGDd"
      },
      "outputs": [],
      "source": [
        "def permutation(arr, low, high):\n",
        "    if type(arr) == list:\n",
        "        arr = np.array(arr)\n",
        "    arr_length = high - low\n",
        "    new_arr = np.random.choice(arr[low : high],size= arr_length, replace=False)\n",
        "    for i in range(0 , arr_length):\n",
        "      arr[low+i] = new_arr[i]\n",
        "    return arr\n",
        "\n",
        "def second_rand_quicksort_01(arr, low, high):\n",
        "    if len(arr) == 0 or len(arr) == 1:\n",
        "        return arr\n",
        "    if low < high:\n",
        "        arr = permutation(arr, low, high)\n",
        "        pivot = partition_F(arr, low, high)\n",
        "        second_rand_quicksort_01(arr, low, pivot - 1)\n",
        "        second_rand_quicksort_01(arr, pivot + 1, high)\n",
        "\n",
        "def second_rand_quicksort_02(arr, low, high):\n",
        "  if len(arr) == 0 or len(arr) == 1:\n",
        "        return arr\n",
        "  if low < high:\n",
        "        arr = permutation(arr, low, high)\n",
        "        rand_quicksort(arr, 0, len(arr) - 1)\n"
      ]
    },
    {
      "cell_type": "code",
      "source": [
        "arr = np.random.randint(1,100,8)\n",
        "arr2 = arr.copy()\n",
        "print(\"rand arr : \", arr)\n",
        "# arr = [98 ,86 ,81, 75, 72, 66, 62, 54, 50, 41, 23, 15, 9, 4, -1, -10, -24, -54]\n",
        "second_rand_quicksort_01(arr, 0, len(arr) - 1)\n",
        "print(\"second_rand_quicksort arr : \", arr)\n",
        "second_rand_quicksort_02(arr2, 0, len(arr2) - 1)\n",
        "print(\"second_rand_quicksort_02 arr : \", arr2)"
      ],
      "metadata": {
        "colab": {
          "base_uri": "https://localhost:8080/"
        },
        "id": "knRWaiRpVuVY",
        "outputId": "c8ef251b-41a9-4d8f-c835-804d376b88f7"
      },
      "execution_count": null,
      "outputs": [
        {
          "output_type": "stream",
          "name": "stdout",
          "text": [
            "rand arr :  [89 85 11 55 36 77 20 88]\n",
            "second_rand_quicksort arr :  [11 20 36 55 77 85 88 89]\n",
            "second_rand_quicksort_02 arr :  [11 20 36 55 77 85 88 89]\n"
          ]
        }
      ]
    },
    {
      "cell_type": "markdown",
      "metadata": {
        "id": "-wH67pRajQa8"
      },
      "source": [
        "# Evaluation the randomized QS\n",
        "In this section we will evaluate the runtime of randomized QS and compare it with the classic one.\n",
        "\n",
        "\n",
        "\n",
        "\n"
      ]
    },
    {
      "cell_type": "code",
      "execution_count": null,
      "metadata": {
        "id": "RfEnhTX8jvyE"
      },
      "outputs": [],
      "source": [
        "import time\n",
        "import matplotlib.pyplot as plt\n",
        "import numpy as np\n",
        "\n",
        "def arr_gen(n):\n",
        "    return np.random.randint(0,n,n)"
      ]
    },
    {
      "cell_type": "code",
      "execution_count": null,
      "metadata": {
        "id": "vYbZOfJ5m25y"
      },
      "outputs": [],
      "source": [
        "r_run_times = np.array([])\n",
        "run_times = np.array([])\n",
        "r_s01_run_times = np.array([])\n",
        "r_s02_run_times = np.array([])\n",
        "sizes = np.array([])\n",
        "\n",
        "for i in range(10, 300, 20):\n",
        "    arr = arr_gen(i)\n",
        "    # Descending sort\n",
        "    arr = -np.sort(-arr)\n",
        "    arr2 = arr.copy()\n",
        "    arr3 = arr.copy()\n",
        "    arr4 = arr.copy()\n",
        "    length = len(arr)\n",
        "\n",
        "    print (len(arr))\n",
        "    print (\"random array: \", arr)\n",
        "\n",
        "    start = time.time()\n",
        "    rand_quicksort(arr, 0, length - 1)\n",
        "    stop = time.time()\n",
        "    run_time = stop - start\n",
        "    r_run_times = np.append(r_run_times, run_time)\n",
        "    print (\"rand_quicksort: \", arr)\n",
        "\n",
        "    start = time.time()\n",
        "    quicksort_F(arr2, 0, length - 1)\n",
        "    stop = time.time()\n",
        "    run_time = stop - start\n",
        "    run_times = np.append(run_times, run_time)\n",
        "    print (\"quicksort: \", arr2)\n",
        "\n",
        "    start = time.time()\n",
        "    second_rand_quicksort_01(arr3, 0, length - 1)\n",
        "    stop = time.time()\n",
        "    run_time = stop - start\n",
        "    r_s01_run_times = np.append(r_s01_run_times, run_time)\n",
        "    print (\"second_rand_quicksort_01: \", arr3)\n",
        "\n",
        "    start = time.time()\n",
        "    second_rand_quicksort_02(arr4, 0, length - 1)\n",
        "    stop = time.time()\n",
        "    run_time = stop - start\n",
        "    r_s02_run_times = np.append(r_s02_run_times, run_time)\n",
        "    print (\"second_rand_quicksort_02: \", arr4)\n",
        "\n",
        "    sizes = np.append(sizes, i)\n",
        "    print(\"**************************************************************************\")\n",
        ""
      ]
    },
    {
      "cell_type": "code",
      "execution_count": null,
      "metadata": {
        "id": "pj741WpvxX0g",
        "colab": {
          "base_uri": "https://localhost:8080/",
          "height": 551
        },
        "outputId": "2d0b4322-b944-4cb2-c70e-f9180d49660f"
      },
      "outputs": [
        {
          "output_type": "display_data",
          "data": {
            "text/plain": [
              "<Figure size 1152x648 with 1 Axes>"
            ],
            "image/png": "[encoded data removed]"
          },
          "metadata": {
            "needs_background": "light"
          }
        }
      ],
      "source": [
        "plt.figure(figsize=(16, 9))\n",
        "plt.plot(sizes, r_run_times, 'r')\n",
        "plt.plot(sizes, run_times, 'b')\n",
        "# plt.plot(sizes, r_s01_run_times, 'g')\n",
        "plt.plot(sizes, r_s02_run_times, 'y')\n",
        "plt.ylabel('Run time')\n",
        "plt.xlabel('Size of the input')\n",
        "plt.show()"
      ]
    }
  ],
  "metadata": {
    "colab": {
      "provenance": [],
      "collapsed_sections": [
        "gus-TkxrISxG",
        "GF3XezrJdbBv",
        "bE00e_PmdImx",
        "T5xwaCaDdOqQ",
        "AlLDVDxFIa1N",
        "BNzEA2ba-ODM",
        "UPw5p_mAjGPA",
        "-wH67pRajQa8"
      ],
      "include_colab_link": true
    },
    "kernelspec": {
      "display_name": "Python 3",
      "name": "python3"
    },
    "language_info": {
      "name": "python"
    }
  },
  "nbformat": 4,
  "nbformat_minor": 0
}