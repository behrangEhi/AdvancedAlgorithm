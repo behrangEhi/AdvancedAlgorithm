{
  "nbformat": 4,
  "nbformat_minor": 0,
  "metadata": {
    "colab": {
      "provenance": [],
      "collapsed_sections": [
        "lb3ULHHWc3ZJ"
      ],
      "authorship_tag": "ABX9TyMc9a8jlW/4pG9OnkOVtd9E",
      "include_colab_link": true
    },
    "kernelspec": {
      "name": "python3",
      "display_name": "Python 3"
    },
    "language_info": {
      "name": "python"
    }
  },
  "cells": [
    {
      "cell_type": "markdown",
      "metadata": {
        "id": "view-in-github",
        "colab_type": "text"
      },
      "source": [
        "<a href=\"https://colab.research.google.com/github/behrangEhi/AdvancedAlgorithm/blob/%2301_B-Tree/_01_B_Tree.ipynb\" target=\"_parent\"><img src=\"https://colab.research.google.com/assets/colab-badge.svg\" alt=\"Open In Colab\"/></a>"
      ]
    },
    {
      "cell_type": "markdown",
      "source": [
        "# Data Structure Visualizations\n",
        "\n",
        "[Data Structure Visualizations](https://www.cs.usfca.edu/~galles/visualization/Algorithms.html)"
      ],
      "metadata": {
        "id": "yzIWp7EhsLor"
      }
    },
    {
      "cell_type": "markdown",
      "source": [
        "# Introduction of B-Tree\n",
        "\n",
        "[geeksforgeeks](https://www.geeksforgeeks.org/introduction-of-b-tree-2/)\n",
        "\n",
        "[How to Implement a B-Tree Data Structure](https://dataquest.io/blog/b-tree-data-structure/)"
      ],
      "metadata": {
        "id": "MrmzRGSa0X0M"
      }
    },
    {
      "cell_type": "markdown",
      "source": [
        "# Slides for B-Tree\n",
        "\n",
        "\n",
        "*   [01-B tree](https://www.slideshare.net/rajendranjrf/b-tree-50159722)\n",
        "*   [02-B tree](https://slideplayer.com/slide/16807097/)\n",
        "*   [03-B tree](https://www.slideshare.net/anujmodi555/b-trees-in-data-structure)\n",
        "\n",
        "\n",
        "\n"
      ],
      "metadata": {
        "id": "j62AldIx3XRQ"
      }
    },
    {
      "cell_type": "markdown",
      "source": [
        "# Implementation (Introduction)"
      ],
      "metadata": {
        "id": "lb3ULHHWc3ZJ"
      }
    },
    {
      "cell_type": "code",
      "execution_count": 7,
      "metadata": {
        "id": "xsijwVtlbPJ4",
        "colab": {
          "base_uri": "https://localhost:8080/"
        },
        "outputId": "efda59d4-807c-42ca-a4ba-02ed8ca911fc"
      },
      "outputs": [
        {
          "output_type": "stream",
          "name": "stdout",
          "text": [
            "Level  0   2:(2, 4) (5, 10) \n",
            "Level  1   2:(0, 0) (1, 2) \n",
            "Level  1   2:(3, 6) (4, 8) \n",
            "Level  1   4:(6, 12) (7, 14) (8, 16) (9, 18) \n",
            "\n",
            "Found\n"
          ]
        }
      ],
      "source": [
        "# Create a node\n",
        "class BTreeNode:\n",
        "  def __init__(self, leaf=False):\n",
        "    self.leaf = leaf\n",
        "    self.keys = []\n",
        "    self.child = []\n",
        "\n",
        "# Tree\n",
        "class BTree:\n",
        "  def __init__(self, t):\n",
        "    self.root = BTreeNode(True)\n",
        "    self.t = t\n",
        "\n",
        "  # Insert node\n",
        "  def insert(self, k):\n",
        "    root = self.root\n",
        "    if len(root.keys) == (2 * self.t) - 1:\n",
        "      temp = BTreeNode()\n",
        "      self.root = temp\n",
        "      temp.child.insert(0, root)\n",
        "      self.split_child(temp, 0)\n",
        "      self.insert_non_full(temp, k)\n",
        "    else:\n",
        "      self.insert_non_full(root, k)\n",
        "\n",
        "  # Insert nonfull\n",
        "  def insert_non_full(self, x, k):\n",
        "    i = len(x.keys) - 1\n",
        "    if x.leaf:\n",
        "      x.keys.append((None, None))\n",
        "      while i >= 0 and k[0] < x.keys[i][0]:\n",
        "        x.keys[i + 1] = x.keys[i]\n",
        "        i -= 1\n",
        "      x.keys[i + 1] = k\n",
        "    else:\n",
        "      while i >= 0 and k[0] < x.keys[i][0]:\n",
        "        i -= 1\n",
        "      i += 1\n",
        "      if len(x.child[i].keys) == (2 * self.t) - 1:\n",
        "        self.split_child(x, i)\n",
        "        if k[0] > x.keys[i][0]:\n",
        "          i += 1\n",
        "      self.insert_non_full(x.child[i], k)\n",
        "\n",
        "  # Split the child\n",
        "  def split_child(self, x, i):\n",
        "    t = self.t\n",
        "    y = x.child[i]\n",
        "    z = BTreeNode(y.leaf)\n",
        "    x.child.insert(i + 1, z)\n",
        "    x.keys.insert(i, y.keys[t - 1])\n",
        "    z.keys = y.keys[t: (2 * t) - 1]\n",
        "    y.keys = y.keys[0: t - 1]\n",
        "    if not y.leaf:\n",
        "      z.child = y.child[t: 2 * t]\n",
        "      y.child = y.child[0: t - 1]\n",
        "\n",
        "  # Print the tree\n",
        "  def print_tree(self, x, l=0):\n",
        "    print(\"Level \", l, \" \", len(x.keys), end=\":\")\n",
        "    for i in x.keys:\n",
        "      print(i, end=\" \")\n",
        "    print()\n",
        "    l += 1\n",
        "    if len(x.child) > 0:\n",
        "      for i in x.child:\n",
        "        self.print_tree(i, l)\n",
        "\n",
        "  # Search key in the tree\n",
        "  def search_key(self, k, x=None):\n",
        "    if x is not None:\n",
        "      i = 0\n",
        "      while i < len(x.keys) and k > x.keys[i][0]:\n",
        "        i += 1\n",
        "      if i < len(x.keys) and k == x.keys[i][0]:\n",
        "        return (x, i)\n",
        "      elif x.leaf:\n",
        "        return None\n",
        "      else:\n",
        "        return self.search_key(k, x.child[i])\n",
        "    else:\n",
        "      return self.search_key(k, self.root)\n",
        "\n",
        "def main():\n",
        "  B = BTree(3)\n",
        "\n",
        "  for i in range(10):\n",
        "    B.insert((i, 2 * i))\n",
        "\n",
        "  B.print_tree(B.root)\n",
        "\n",
        "  if B.search_key(8) is not None:\n",
        "    print(\"\\nFound\")\n",
        "  else:\n",
        "    print(\"\\nNot Found\")\n",
        "\n",
        "if __name__ == '__main__':\n",
        "  main()"
      ]
    }
  ]
}