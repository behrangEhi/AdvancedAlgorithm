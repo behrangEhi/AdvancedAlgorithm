{
  "nbformat": 4,
  "nbformat_minor": 0,
  "metadata": {
    "colab": {
      "provenance": [],
      "authorship_tag": "ABX9TyO2qKvRe6tKbKR1iATchsYk",
      "include_colab_link": true
    },
    "kernelspec": {
      "name": "python3",
      "display_name": "Python 3"
    },
    "language_info": {
      "name": "python"
    }
  },
  "cells": [
    {
      "cell_type": "markdown",
      "metadata": {
        "id": "view-in-github",
        "colab_type": "text"
      },
      "source": [
        "<a href=\"https://colab.research.google.com/github/behrangEhi/AdvancedAlgorithm/blob/%2301_B-Tree/_01_B_Tree.ipynb\" target=\"_parent\"><img src=\"https://colab.research.google.com/assets/colab-badge.svg\" alt=\"Open In Colab\"/></a>"
      ]
    },
    {
      "cell_type": "markdown",
      "source": [
        "# Data Structure Visualizations\n",
        "\n",
        "[Data Structure Visualizations](https://www.cs.usfca.edu/~galles/visualization/Algorithms.html)"
      ],
      "metadata": {
        "id": "yzIWp7EhsLor"
      }
    },
    {
      "cell_type": "markdown",
      "source": [
        "# Introduction of B-Tree\n",
        "[geeksforgeeks](https://www.geeksforgeeks.org/introduction-of-b-tree-2/)"
      ],
      "metadata": {
        "id": "MrmzRGSa0X0M"
      }
    },
    {
      "cell_type": "markdown",
      "source": [
        "# Slides for B-Tree\n",
        "\n",
        "\n",
        "*   [01-B tree](https://www.slideshare.net/rajendranjrf/b-tree-50159722)\n",
        "*   [02-B tree](https://slideplayer.com/slide/16807097/)\n",
        "*   [03-B tree](https://www.slideshare.net/anujmodi555/b-trees-in-data-structure)\n",
        "\n",
        "\n",
        "\n"
      ],
      "metadata": {
        "id": "j62AldIx3XRQ"
      }
    },
    {
      "cell_type": "markdown",
      "source": [
        "# Importing libraries"
      ],
      "metadata": {
        "id": "lb3ULHHWc3ZJ"
      }
    },
    {
      "cell_type": "code",
      "execution_count": null,
      "metadata": {
        "id": "xsijwVtlbPJ4"
      },
      "outputs": [],
      "source": []
    }
  ]
}